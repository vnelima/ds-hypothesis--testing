{
 "cells": [
  {
   "cell_type": "markdown",
   "metadata": {},
   "source": [
    "# Hypothesis Testing\n",
    "\n",
    "Hypothesis testing is a statistical method used to make inferences or draw conclusions about a population based on a sample of data. It involves two competing hypotheses:\n",
    "\n",
    "1. **Null Hypothesis $H_0$**: This is the default assumption that there is no effect or no difference. It represents the status quo or a statement of no change.\n",
    "\n",
    "2. **Alternative Hypothesis $H_0$ or $H_1$**: This is what you want to prove. It suggests that there is an effect, a difference, or a relationship.\n",
    "\n",
    "## Steps in Hypothesis Testing\n",
    "\n",
    "The process of hypothesis testing typically involves the following steps:\n",
    "\n",
    "1. **Formulate Hypotheses**: Clearly define the null and alternative hypotheses.\n",
    "\n",
    "2. **Choose a Significance Level $\\alpha$**: This is the probability of rejecting the null hypothesis when it is true (commonly set at 0.05).\n",
    "\n",
    "3. **Collect Data**: Gather sample data that will be used to test the hypotheses.\n",
    "\n",
    "4. **Calculate a Test Statistic**: Depending on the type of data and hypotheses, a test statistic (e.g., z-score, t-score) is computed from the sample data.\n",
    "\n",
    "5. **Determine the p-value or Critical Value**: \n",
    "   - **P-value**: The probability of observing the sample data, or something more extreme, assuming the null hypothesis is true.\n",
    "   - **Critical Value**: A threshold that the test statistic must exceed to reject the null hypothesis.\n",
    "\n",
    "6. **Make a Decision**: \n",
    "   - If the p-value is less than or equal to $\\alpha$, reject the null hypothesis.\n",
    "   - If the test statistic exceeds the critical value, reject the null hypothesis.\n",
    "   - Otherwise, fail to reject the null hypothesis.\n",
    "\n",
    "7. **Draw a Conclusion**: Summarize the findings in the context of the research question.\n",
    "\n",
    "\n",
    "\n"
   ]
  },
  {
   "cell_type": "markdown",
   "metadata": {},
   "source": [
    "# Practicability of Hypothesis Testing in Real Life\n",
    "\n",
    "## 1. Finance\n",
    "- **Investment Decisions**: Investors use hypothesis testing to evaluate whether a new investment strategy will outperform existing strategies. For example, a null hypothesis might state that the new strategy does not yield higher returns than the traditional strategy.\n",
    "  \n",
    "- **Risk Assessment**: Financial analysts may test whether changes in market conditions significantly impact asset prices. For instance, they might test if a particular economic indicator affects stock prices (H₀: no effect vs. H₁: significant effect).\n",
    "\n",
    "- **Credit Risk**: Banks use hypothesis testing to determine whether a particular demographic group is more likely to default on loans, which can influence lending policies.\n",
    "\n",
    "## 2. Education\n",
    "- **Program Evaluation**: Educators may use hypothesis testing to assess the effectiveness of new teaching methods or curricula. For example, they might test whether students taught with a new method score higher on standardized tests compared to those taught with traditional methods (H₀: no difference in scores).\n",
    "\n",
    "- **Student Performance Analysis**: Schools can analyze whether there is a significant difference in performance between different groups of students (e.g., those receiving tutoring vs. those who do not).\n",
    "\n",
    "- **Survey Analysis**: Educational institutions often conduct surveys to gather feedback on courses. Hypothesis testing can help determine if a new course format leads to higher student satisfaction levels compared to the previous format.\n",
    "\n",
    "## 3. Manufacturing\n",
    "- **Quality Control**: Manufacturers use hypothesis testing to maintain product quality. For example, they might test whether a new production process results in a lower defect rate compared to the old process (H₀: defect rates are equal).\n",
    "\n",
    "- **Process Improvement**: Companies may test hypotheses about the effects of changes in manufacturing processes on output. For instance, they might evaluate whether increasing the temperature during production improves product quality.\n",
    "\n",
    "- **Supply Chain Decisions**: Businesses can test whether changes in supplier performance metrics significantly affect overall production efficiency, aiding in vendor selection and contract negotiations.\n"
   ]
  },
  {
   "cell_type": "markdown",
   "metadata": {},
   "source": [
    "# T-Tests\n",
    "\n",
    "T-tests are statistical tests used to determine if there is a significant difference between the means of two groups. They are particularly useful when the sample size is small, and the population standard deviation is unknown.\n",
    "\n",
    "## Conditions Favorable for Using T-Tests\n",
    "\n",
    "T-tests are preferred over Z-tests under the following conditions:\n",
    "\n",
    "1. **Small Sample Size**: T-tests are appropriate when the sample size is less than 30. Z-tests are generally used for larger samples, where the Central Limit Theorem applies, allowing for the use of the normal distribution.\n",
    "\n",
    "2. **Unknown Population Standard Deviation**: When the population standard deviation is unknown, the t-distribution is used, as it accounts for the additional uncertainty introduced by estimating the standard deviation from a small sample.\n",
    "\n",
    "3. **Normality**: The data should be approximately normally distributed. For small sample sizes, this is critical; however, T-tests are robust to violations of normality if the sample size is large enough.\n"
   ]
  },
  {
   "cell_type": "markdown",
   "metadata": {},
   "source": [
    "## Types of T-Tests\n",
    "\n",
    "### 1. One-Sample T-Test\n",
    "\n",
    "### Explanation\n",
    "A one-sample t-test is used to compare the mean of a single sample to a known population mean (or a hypothesized value). It helps determine whether the sample mean is significantly different from the population mean.\n",
    "\n",
    "### Formula\n",
    "The formula for the one-sample t-test is:\n",
    "\n",
    "- $t = \\frac{\\bar{x} - \\mu}{s / \\sqrt{n}}$\n",
    "\n",
    "\n",
    "\n",
    "Where:\n",
    "- $\\bar{x}$ = sample mean\n",
    "- $\\mu$ = population mean\n",
    "- $s$ = sample standard deviation\n",
    "- $n$ = sample size\n",
    "\n",
    "To calculate the sample standard deviation:\n",
    "\n",
    "- $s = \\sqrt{\\frac{\\sum (x_i - \\bar{x})^2}{n-1}}$\n",
    "\n",
    "### Interpretation\n",
    "- If $|t| > t_{critical}$, reject the null hypothesis (H₀: the mean is 75).\n",
    "- If $|t| \\leq t_{critical}$, fail to reject the null hypothesis."
   ]
  },
  {
   "cell_type": "markdown",
   "metadata": {},
   "source": [
    "### Example \n",
    "\n",
    "_Educators may use hypothesis testing to assess the effectiveness of new teaching methods or curricula. For example, they might test whether students taught with a new method score higher on standardized tests compared to those taught with traditional methods (H₀: no difference in scores)._\n",
    "\n",
    "Hypothesis:\n",
    "\n",
    "- Null Hypothesis (H₀): There is no difference in scores between students taught using the new method and the national average score of 75.\n",
    "- Alternative Hypothesis (H₁): Students taught with the new method score higher than 75."
   ]
  },
  {
   "cell_type": "code",
   "execution_count": 5,
   "metadata": {},
   "outputs": [],
   "source": [
    "import numpy as np\n",
    "\n",
    "# Step 1: Data\n",
    "scores = np.array([78, 82, 85, 80, 90, 76, 88, 91, 84, 79, 87, 92, 77, 81, 89, 93, 86, 75, 82, 84])\n",
    "population_mean = 75\n",
    "n = len(scores)\n"
   ]
  },
  {
   "cell_type": "code",
   "execution_count": 6,
   "metadata": {},
   "outputs": [
    {
     "name": "stdout",
     "output_type": "stream",
     "text": [
      "Sample Mean (X_bar): 83.95\n",
      "Sample Standard Deviation (s): 5.49\n",
      "T-Statistic: 7.2888\n",
      "Degrees of Freedom (df): 19\n",
      "Reject the null hypothesis (H₀): Students taught with the new method score significantly higher than 75.\n"
     ]
    }
   ],
   "source": [
    "\n",
    "# Step 2: Calculate Sample Mean (X_bar)\n",
    "X_bar = np.mean(scores)\n",
    "X_bar\n",
    "\n",
    "# Step 3: Calculate Sample Standard Deviation (s)\n",
    "s = np.std(scores, ddof=1)  # Use ddof=1 for sample standard deviation\n",
    "s\n",
    "\n",
    "# Step 4: Calculate T-Statistic\n",
    "t_statistic = (X_bar - population_mean) / (s / np.sqrt(n))\n",
    "t_statistic\n",
    "\n",
    "# Step 5: Calculate Degrees of Freedom\n",
    "df = n - 1\n",
    "df\n",
    "\n",
    "# Step 6: Calculate Critical T-Value (one-tailed) for alpha = 0.05\n",
    "alpha = 0.05\n",
    "t_critical = 1.65\n",
    "\n",
    "\n",
    "\n",
    "# Step 8: Output Results\n",
    "print(f\"Sample Mean (X_bar): {X_bar:.2f}\")\n",
    "print(f\"Sample Standard Deviation (s): {s:.2f}\")\n",
    "print(f\"T-Statistic: {t_statistic:.4f}\")\n",
    "print(f\"Degrees of Freedom (df): {df}\")\n",
    "#print(f\"T-Critical Value (α=0.05): {t_critical:.4f}\")\n",
    "#print(f\"P-Value: {p_value:.4f}\")\n",
    "\n",
    "# Step 9: Conclusion\n",
    "if t_statistic > t_critical:\n",
    "    print(\"Reject the null hypothesis (H₀): Students taught with the new method score significantly higher than 75.\")\n",
    "else:\n",
    "    print(\"Fail to reject the null hypothesis (H₀): No significant difference in scores.\")\n"
   ]
  },
  {
   "cell_type": "markdown",
   "metadata": {},
   "source": [
    "### Using Stats Library\n"
   ]
  },
  {
   "cell_type": "code",
   "execution_count": 7,
   "metadata": {},
   "outputs": [
    {
     "name": "stdout",
     "output_type": "stream",
     "text": [
      "T-statistic: 7.2888\n",
      "P-value: 0.0000\n",
      "Reject the null hypothesis (H₀): Students taught with the new method score significantly higher than 75.\n"
     ]
    }
   ],
   "source": [
    "import numpy as np\n",
    "from scipy import stats\n",
    "\n",
    "# Data\n",
    "scores = np.array([78, 82, 85, 80, 90, 76, 88, 91, 84, 79, 87, 92, 77, 81, 89, 93, 86, 75, 82, 84])\n",
    "population_mean = 75\n",
    "\n",
    "# One-sample t-test\n",
    "t_statistic, p_value = stats.ttest_1samp(scores, population_mean)\n",
    "\n",
    "# Output results\n",
    "print(f\"T-statistic: {t_statistic:.4f}\")\n",
    "print(f\"P-value: {p_value:.4f}\")\n",
    "\n",
    "# Interpretation\n",
    "alpha = 0.05\n",
    "if t_statistic > t_critical:\n",
    "    print(\"Reject the null hypothesis (H₀): Students taught with the new method score significantly higher than 75.\")\n",
    "else:\n",
    "    print(\"Fail to reject the null hypothesis (H₀): No significant difference in scores.\")\n",
    "\n"
   ]
  },
  {
   "cell_type": "markdown",
   "metadata": {},
   "source": [
    "## 2. Paired Samples T-Test (Dependent T-Test)\n",
    "\n",
    "### Explanation\n",
    "A paired samples t-test compares the means of two related groups. This test is useful when the same subjects are measured under two different conditions.\n",
    "\n",
    "The formula for the paired samples t-test is:\n",
    "\n",
    "$t = \\frac{\\bar{d}}{s_d / \\sqrt{n}}$\n",
    "\n",
    "Where:\n",
    "- $\\bar{d}$ = mean of the differences between pairs\n",
    "- $s_d$ = standard deviation of the differences\n",
    "- $n$ = number of pairs\n",
    "\n",
    "## Example\n",
    "- _the effectiveness of a teaching method is evaluated before and after the intervention on the same group of students._\n",
    "\n",
    "Hypothesis:\n",
    "\n",
    "- Null Hypothesis (H₀): There is no difference in test scores before and after the teaching intervention.\n",
    "- Alternative Hypothesis (H₁): There is a significant difference in test scores before and after the teaching intervention."
   ]
  },
  {
   "cell_type": "code",
   "execution_count": 8,
   "metadata": {},
   "outputs": [
    {
     "name": "stdout",
     "output_type": "stream",
     "text": [
      "Mean of Differences (d_bar): 9.72\n",
      "Standard Deviation of Differences (s_d): 2.13\n",
      "T-Statistic: 22.8007\n",
      "Degrees of Freedom (df): 24\n",
      "P-Value: 0.0000\n",
      "Reject the null hypothesis (H₀): There is a significant difference in test scores.\n"
     ]
    }
   ],
   "source": [
    "# Step 1: Data\n",
    "scores_before = np.array([70, 75, 68, 80, 78, 74, 73, 81, 69, 77,\n",
    "                           72, 76, 79, 74, 82, 71, 75, 78, 70, 80,\n",
    "                           76, 72, 79, 74, 81])\n",
    "scores_after = np.array([85, 90, 82, 88, 87, 84, 83, 89, 81, 86,\n",
    "                          80, 85, 89, 83, 91, 78, 84, 87, 81, 88,\n",
    "                          85, 80, 88, 83, 90])\n",
    "\n",
    "# Step 2: Calculate differences\n",
    "differences = scores_after - scores_before\n",
    "\n",
    "# Step 3: Calculate the mean of the differences (d_bar)\n",
    "mean_difference = np.mean(differences)\n",
    "\n",
    "# Step 4: Calculate the standard deviation of the differences (s_d)\n",
    "std_difference = np.std(differences, ddof=1)  # Use ddof=1 for sample standard deviation\n",
    "\n",
    "# Step 5: Calculate the number of pairs (n)\n",
    "n = len(differences)\n",
    "\n",
    "# Step 6: Calculate the T-Statistic\n",
    "t_statistic = mean_difference / (std_difference / np.sqrt(n))\n",
    "\n",
    "# Step 7: Calculate Degrees of Freedom (df)\n",
    "df = n - 1\n",
    "\n",
    "# Step 8: Calculate P-Value\n",
    "p_value = stats.ttest_rel(scores_before, scores_after).pvalue\n",
    "\n",
    "# Step 9: Output Results\n",
    "print(f\"Mean of Differences (d_bar): {mean_difference:.2f}\")\n",
    "print(f\"Standard Deviation of Differences (s_d): {std_difference:.2f}\")\n",
    "print(f\"T-Statistic: {t_statistic:.4f}\")\n",
    "print(f\"Degrees of Freedom (df): {df}\")\n",
    "print(f\"P-Value: {p_value:.4f}\")\n",
    "\n",
    "# Step 10: Conclusion\n",
    "alpha = 0.05\n",
    "if p_value < alpha:\n",
    "    print(\"Reject the null hypothesis (H₀): There is a significant difference in test scores.\")\n",
    "else:\n",
    "    print(\"Fail to reject the null hypothesis (H₀): No significant difference in test scores.\")\n"
   ]
  },
  {
   "cell_type": "markdown",
   "metadata": {},
   "source": [
    "### Using stats library\n"
   ]
  },
  {
   "cell_type": "code",
   "execution_count": 9,
   "metadata": {},
   "outputs": [
    {
     "name": "stdout",
     "output_type": "stream",
     "text": [
      "T-Statistic: 22.8007\n",
      "P-Value: 0.0000\n",
      "Reject the null hypothesis (H₀): There is a significant difference in test scores.\n"
     ]
    }
   ],
   "source": [
    "import numpy as np\n",
    "from scipy import stats\n",
    "\n",
    "# Step 1: Data\n",
    "scores_before = np.array([70, 75, 68, 80, 78, 74, 73, 81, 69, 77,\n",
    "                           72, 76, 79, 74, 82, 71, 75, 78, 70, 80,\n",
    "                           76, 72, 79, 74, 81])\n",
    "scores_after = np.array([85, 90, 82, 88, 87, 84, 83, 89, 81, 86,\n",
    "                          80, 85, 89, 83, 91, 78, 84, 87, 81, 88,\n",
    "                          85, 80, 88, 83, 90])\n",
    "\n",
    "# Step 2: Use the stats library to perform the paired t-test\n",
    "t_statistic, p_value = stats.ttest_rel(scores_after, scores_before)\n",
    "\n",
    "# Step 3: Output Results\n",
    "print(f\"T-Statistic: {t_statistic:.4f}\")\n",
    "print(f\"P-Value: {p_value:.4f}\")\n",
    "\n",
    "# Step 4: Conclusion\n",
    "alpha = 0.05\n",
    "if p_value < alpha:\n",
    "    print(\"Reject the null hypothesis (H₀): There is a significant difference in test scores.\")\n",
    "else:\n",
    "    print(\"Fail to reject the null hypothesis (H₀): No significant difference in test scores.\")\n"
   ]
  },
  {
   "cell_type": "markdown",
   "metadata": {},
   "source": [
    "## 3. Independent Samples T-Test\n",
    "\n",
    "### Explanation\n",
    "An independent samples t-test compares the means of two independent groups to determine if they are significantly different from each other.\n",
    "\n",
    "### Formula\n",
    "The formula for the independent samples t-test is:\n",
    "\n",
    "- $t = \\frac{\\bar{x}_1 - \\bar{x}_2}{s_p \\sqrt{\\frac{1}{n_1} + \\frac{1}{n_2}}}$\n",
    "\n",
    "Pooled standard deviation formula:\n",
    "\n",
    "- $s_p = \\sqrt{\\frac{(n_a - 1) s_a^2 + (n_b - 1) s_b^2}{n_a + n_b - 2}}$\n",
    "\n",
    "Where:\n",
    "- $\\bar{x}_1, \\bar{x}_2$ = means of the two groups\n",
    "- $s_p$ = pooled standard deviation\n",
    "- $n_1, n_2$ = sizes of the two groups\n"
   ]
  },
  {
   "cell_type": "markdown",
   "metadata": {},
   "source": [
    "### Example\n",
    "\n",
    "- _We will simulate a scenario using sales data for two different marketing strategies._\n",
    "\n",
    "Hypothesis:\n",
    "\n",
    "- Null Hypothesis (H₀): There is no difference in average sales between the two marketing strategies.\n",
    "- Alternative Hypothesis (H₁): There is a significant difference in average sales between the two marketing strategies.\n",
    "\n",
    "Sales Data for Marketing Strategy A:\n",
    "\n",
    "- [250,300,275,400,320,275,310,290,330,350,275,360,310,295,340]\n",
    "\n",
    "Sales Data for Marketing Strategy B:\n",
    "\n",
    "- [220,250,300,280,270,240,250,310,290,265,230,275,280,260,240]"
   ]
  },
  {
   "cell_type": "code",
   "execution_count": 10,
   "metadata": {},
   "outputs": [],
   "source": [
    "# Step 1: Data\n",
    "strategy_a = np.array([250, 300, 275, 400, 320, 275, 310, 290, 330, 350, 275, 360, 310, 295, 340])\n",
    "strategy_b = np.array([220, 250, 300, 280, 270, 240, 250, 310, 290, 265, 230, 275, 280, 260, 240])"
   ]
  },
  {
   "cell_type": "code",
   "execution_count": 11,
   "metadata": {},
   "outputs": [],
   "source": [
    "# Step 2: Calculate means\n",
    "mean_a = np.mean(strategy_a)\n",
    "mean_b = np.mean(strategy_b)"
   ]
  },
  {
   "cell_type": "code",
   "execution_count": 12,
   "metadata": {},
   "outputs": [],
   "source": [
    "# Step 3: Calculate standard deviations\n",
    "std_a = np.std(strategy_a, ddof=1)  # Sample standard deviation\n",
    "std_b = np.std(strategy_b, ddof=1)  # Sample standard deviation"
   ]
  },
  {
   "cell_type": "code",
   "execution_count": 13,
   "metadata": {},
   "outputs": [],
   "source": [
    "# Step 4: Calculate sizes\n",
    "n_a = len(strategy_a)\n",
    "n_b = len(strategy_b)"
   ]
  },
  {
   "cell_type": "code",
   "execution_count": 14,
   "metadata": {},
   "outputs": [],
   "source": [
    "# Step 5: Calculate pooled standard deviation (s_p)\n",
    "sp = np.sqrt(((n_a - 1) * std_a**2 + (n_b - 1) * std_b**2) / (n_a + n_b - 2))\n"
   ]
  },
  {
   "cell_type": "code",
   "execution_count": 15,
   "metadata": {},
   "outputs": [],
   "source": [
    "# Step 6: Calculate T-Statistic\n",
    "t_statistic = (mean_a - mean_b) / (sp * np.sqrt(1/n_a + 1/n_b))"
   ]
  },
  {
   "cell_type": "code",
   "execution_count": 16,
   "metadata": {},
   "outputs": [],
   "source": [
    "# Step 7: Calculate Degrees of Freedom (df)\n",
    "df = n_a + n_b - 2\n",
    "\n",
    "# Step 8: Calculate P-Value\n",
    "p_value = 2 * (1 - stats.t.cdf(np.abs(t_statistic), df))"
   ]
  },
  {
   "cell_type": "code",
   "execution_count": 17,
   "metadata": {},
   "outputs": [
    {
     "name": "stdout",
     "output_type": "stream",
     "text": [
      "Mean of Strategy A: 312.00\n",
      "Mean of Strategy B: 264.00\n",
      "Standard Deviation of Strategy A: 39.22\n",
      "Standard Deviation of Strategy B: 25.93\n",
      "Pooled Standard Deviation (s_p): 33.25\n",
      "T-Statistic: 3.9539\n",
      "Degrees of Freedom (df): 28\n",
      "P-Value: 0.0005\n",
      "Reject the null hypothesis (H₀): There is a significant difference in average sales.\n"
     ]
    }
   ],
   "source": [
    "# Step 9: Output Results\n",
    "print(f\"Mean of Strategy A: {mean_a:.2f}\")\n",
    "print(f\"Mean of Strategy B: {mean_b:.2f}\")\n",
    "print(f\"Standard Deviation of Strategy A: {std_a:.2f}\")\n",
    "print(f\"Standard Deviation of Strategy B: {std_b:.2f}\")\n",
    "print(f\"Pooled Standard Deviation (s_p): {sp:.2f}\")\n",
    "print(f\"T-Statistic: {t_statistic:.4f}\")\n",
    "print(f\"Degrees of Freedom (df): {df}\")\n",
    "print(f\"P-Value: {p_value:.4f}\")\n",
    "\n",
    "# Step 10: Conclusion\n",
    "alpha = 0.05\n",
    "if p_value < alpha:\n",
    "    print(\"Reject the null hypothesis (H₀): There is a significant difference in average sales.\")\n",
    "else:\n",
    "    print(\"Fail to reject the null hypothesis (H₀): No significant difference in average sales.\")"
   ]
  },
  {
   "cell_type": "markdown",
   "metadata": {},
   "source": [
    "# Using Stats"
   ]
  },
  {
   "cell_type": "code",
   "execution_count": 18,
   "metadata": {},
   "outputs": [
    {
     "name": "stdout",
     "output_type": "stream",
     "text": [
      "T-Statistic: 3.9539\n",
      "P-Value: 0.0005\n",
      "Reject the null hypothesis (H₀): There is a significant difference in average sales.\n"
     ]
    }
   ],
   "source": [
    "# Step 1: Data\n",
    "strategy_a = np.array([250, 300, 275, 400, 320, 275, 310, 290, 330, 350, 275, 360, 310, 295, 340])\n",
    "strategy_b = np.array([220, 250, 300, 280, 270, 240, 250, 310, 290, 265, 230, 275, 280, 260, 240])\n",
    "\n",
    "# Step 2: Use the stats library to perform the independent t-test\n",
    "t_statistic, p_value = stats.ttest_ind(strategy_a, strategy_b)\n",
    "\n",
    "# Step 3: Output Results\n",
    "print(f\"T-Statistic: {t_statistic:.4f}\")\n",
    "print(f\"P-Value: {p_value:.4f}\")\n",
    "\n",
    "# Step 4: Conclusion\n",
    "alpha = 0.05\n",
    "if p_value < alpha:\n",
    "    print(\"Reject the null hypothesis (H₀): There is a significant difference in average sales.\")\n",
    "else:\n",
    "    print(\"Fail to reject the null hypothesis (H₀): No significant difference in average sales.\")\n"
   ]
  },
  {
   "cell_type": "markdown",
   "metadata": {},
   "source": [
    "# Visualizing These Concepts\n"
   ]
  },
  {
   "cell_type": "code",
   "execution_count": 7,
   "metadata": {},
   "outputs": [],
   "source": [
    "import matplotlib.pyplot as plt\n",
    "from scipy import stats\n",
    "import numpy as np\n",
    "\n",
    "def visualize_t_test(t_statistic, df, alpha=0.05, one_tailed=False):\n",
    "    # Determine critical t-values\n",
    "    if one_tailed:\n",
    "        t_critical = stats.t.ppf(1 - alpha, df)\n",
    "        critical_region = (t_critical, np.inf)\n",
    "    else:\n",
    "        t_critical_left = stats.t.ppf(alpha / 2, df)\n",
    "        t_critical_right = stats.t.ppf(1 - alpha / 2, df)\n",
    "        critical_region = (t_critical_left, t_critical_right)\n",
    "\n",
    "    # Set up the x values for the t distribution\n",
    "    x = np.linspace(-4, 4, 1000)\n",
    "    y = stats.t.pdf(x, df)\n",
    "\n",
    "    # Create the plot\n",
    "    plt.figure(figsize=(10, 6))\n",
    "    plt.plot(x, y, label='t-distribution', color='blue')\n",
    "\n",
    "    # Fill the critical region\n",
    "    if one_tailed:\n",
    "        plt.fill_between(x, y, where=(x >= t_critical), color='red', alpha=0.5, label='Rejection Region')\n",
    "    else:\n",
    "        plt.fill_between(x, y, where=(x <= t_critical_left), color='red', alpha=0.5, label='Rejection Region')\n",
    "        plt.fill_between(x, y, where=(x >= t_critical_right), color='red', alpha=0.5)\n",
    "\n",
    "    # Plot t-statistic\n",
    "    plt.axvline(t_statistic, color='green', linestyle='--', label=f't-statistic = {t_statistic:.4f}')\n",
    "\n",
    "    # Plot critical values\n",
    "    if one_tailed:\n",
    "        plt.axvline(t_critical, color='orange', linestyle='--', label=f't-critical = {t_critical:.4f}')\n",
    "    else:\n",
    "        plt.axvline(t_critical_left, color='orange', linestyle='--', label=f't-critical left = {t_critical_left:.4f}')\n",
    "        plt.axvline(t_critical_right, color='orange', linestyle='--', label=f't-critical right = {t_critical_right:.4f}')\n",
    "\n",
    "    # Add labels and title\n",
    "    plt.title('T-Test Visualization')\n",
    "    plt.xlabel('t-value')\n",
    "    plt.ylabel('Density')\n",
    "    plt.legend()\n",
    "    plt.grid()\n",
    "    plt.show()"
   ]
  },
  {
   "cell_type": "code",
   "execution_count": 8,
   "metadata": {},
   "outputs": [
    {
     "data": {
      "image/png": "[encoded data removed]",
      "text/plain": [
       "<Figure size 1000x600 with 1 Axes>"
      ]
     },
     "metadata": {},
     "output_type": "display_data"
    }
   ],
   "source": [
    "visualize_t_test(22, 24, 0.05, True)"
   ]
  }
 ],
 "metadata": {
  "kernelspec": {
   "display_name": "Python 3",
   "language": "python",
   "name": "python3"
  },
  "language_info": {
   "codemirror_mode": {
    "name": "ipython",
    "version": 3
   },
   "file_extension": ".py",
   "mimetype": "text/x-python",
   "name": "python",
   "nbconvert_exporter": "python",
   "pygments_lexer": "ipython3",
   "version": "3.12.4"
  }
 },
 "nbformat": 4,
 "nbformat_minor": 2
}
